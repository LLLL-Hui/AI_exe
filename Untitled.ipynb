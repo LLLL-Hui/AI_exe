{
 "cells": [
  {
   "cell_type": "code",
   "execution_count": 418,
   "metadata": {},
   "outputs": [],
   "source": [
    "from typing import List\n",
    "import numpy as np\n",
    "import math"
   ]
  },
  {
   "cell_type": "code",
   "execution_count": 59,
   "metadata": {},
   "outputs": [
    {
     "name": "stdout",
     "output_type": "stream",
     "text": [
      "[[0, 15, 15, 15, 15], [0, 15, 15, 20, 35], [0, 15, 15, 20, 35]]\n"
     ]
    }
   ],
   "source": [
    "def test_2_wei_bag_problem1(bag_size, weight, value) -> int: \n",
    "    rows, cols = len(weight), bag_size + 1\n",
    "    dp = [[0 for _ in range(cols)] for _ in range(rows)]\n",
    "    \n",
    "    # 初始化dp数组. \n",
    "    for i in range(rows): \n",
    "        dp[i][0] = 0\n",
    "    first_item_weight, first_item_value = weight[0], value[0]\n",
    "    for j in range(1, cols): \t\n",
    "        if first_item_weight <= j: \n",
    "            dp[0][j] = first_item_value\n",
    "\n",
    "    # 更新dp数组: 先遍历物品, 再遍历背包. \n",
    "    for i in range(1, len(weight)): \n",
    "        cur_weight, cur_val = weight[i], value[i]\n",
    "        for j in range(1, cols): \n",
    "            if cur_weight > j: # 说明背包装不下当前物品. \n",
    "                dp[i][j] = dp[i - 1][j] # 所以不装当前物品. \n",
    "            else: \n",
    "                # 定义dp数组: dp[i][j] 前i个物品里，放进容量为j的背包，价值总和最大是多少。\n",
    "                dp[i][j] = max(dp[i - 1][j], dp[i - 1][j - cur_weight]+ cur_val)\n",
    "\n",
    "    print(dp)\n",
    "\n",
    "\n",
    "if __name__ == \"__main__\": \n",
    "    bag_size = 4\n",
    "    weight = [1, 3, 4]\n",
    "    value = [15, 20, 30]\n",
    "    test_2_wei_bag_problem1(bag_size, weight, value)"
   ]
  },
  {
   "cell_type": "code",
   "execution_count": 78,
   "metadata": {},
   "outputs": [],
   "source": [
    "A = [3.5, 6, 7.2, 10]\n",
    "B = [1, 2, 4.5]"
   ]
  },
  {
   "cell_type": "code",
   "execution_count": 65,
   "metadata": {},
   "outputs": [
    {
     "name": "stdout",
     "output_type": "stream",
     "text": [
      "val: 10\n",
      "10\n",
      "[3.5, 6, 7.2]\n"
     ]
    }
   ],
   "source": [
    "A = [3.5, 6, 7.2, 10]\n",
    "B = [1, 2, 4.5]\n",
    "val = 0\n",
    "temp = []\n",
    "\n",
    "for i in range(len(A)-1, -1, -1):\n",
    "    if sum(B) <= A[i]:\n",
    "        val = A[i]\n",
    "        print('val:', val)\n",
    "    else:\n",
    "        temp.append(A.pop(0))\n",
    "        val = A[i]\n",
    "print(val)\n",
    "print(temp)\n",
    "    "
   ]
  },
  {
   "cell_type": "code",
   "execution_count": 92,
   "metadata": {},
   "outputs": [],
   "source": [
    "def findMinErr(A: List[int], target: int):\n",
    "    val = 0\n",
    "    temp = []\n",
    "\n",
    "    for i in range(len(A)-1, -1, -1):\n",
    "        if A[i] > target:\n",
    "            val = A[i]\n",
    "        else:\n",
    "            break\n",
    "            \n",
    "    return val\n",
    "\n",
    "    "
   ]
  },
  {
   "cell_type": "code",
   "execution_count": 99,
   "metadata": {},
   "outputs": [],
   "source": [
    "def findMaxElements(target: int, B: List[int]):\n",
    "    temp = []\n",
    "    for i in range(len(B)-1, -1, -1):\n",
    "        if target >= B[i]:\n",
    "            temp.append(1)\n",
    "            target -= B[i]\n",
    "        else:\n",
    "            temp.append(0)\n",
    "    temp.reverse()\n",
    "    return temp\n"
   ]
  },
  {
   "cell_type": "code",
   "execution_count": 268,
   "metadata": {},
   "outputs": [],
   "source": [
    "def tMatrix(A: List[int], B: List[int]):\n",
    "    t_M = []\n",
    "    for i in range(len(A)):\n",
    "        t_M.append(findMaxElements(A[i], B))\n",
    "    t_M = np.array(t_M)\n",
    "    return t_M\n"
   ]
  },
  {
   "cell_type": "code",
   "execution_count": 271,
   "metadata": {},
   "outputs": [],
   "source": [
    "def greedySearch(A: List[int], B: List[int]):\n",
    "    t_results = tMatrix(A, B)\n",
    "    temp = []\n",
    "    for j in range(len(B)):\n",
    "        for i in range(len(A)):\n",
    "            if t_results[i,j] == 1:\n",
    "                temp = t_results[i]\n",
    "                t_results[i+1:,j] = 0\n",
    "    return t_results\n",
    "                \n",
    "    "
   ]
  },
  {
   "cell_type": "code",
   "execution_count": 272,
   "metadata": {},
   "outputs": [
    {
     "data": {
      "text/plain": [
       "array([[1, 1, 0],\n",
       "       [0, 0, 1],\n",
       "       [0, 0, 0],\n",
       "       [0, 0, 0]])"
      ]
     },
     "execution_count": 272,
     "metadata": {},
     "output_type": "execute_result"
    }
   ],
   "source": [
    "A = [3.5, 6, 7.2, 10]\n",
    "B = [1, 2, 4.5]\n",
    "\n",
    "greedySearch(A, B)"
   ]
  },
  {
   "cell_type": "code",
   "execution_count": 273,
   "metadata": {},
   "outputs": [
    {
     "data": {
      "text/plain": [
       "array([[1, 1, 0],\n",
       "       [1, 0, 1],\n",
       "       [0, 1, 1],\n",
       "       [1, 1, 1]])"
      ]
     },
     "execution_count": 273,
     "metadata": {},
     "output_type": "execute_result"
    }
   ],
   "source": [
    "tMatrix(A, B)"
   ]
  },
  {
   "cell_type": "code",
   "execution_count": 274,
   "metadata": {},
   "outputs": [
    {
     "name": "stdout",
     "output_type": "stream",
     "text": [
      "4\n",
      "\n",
      "3.5,6,9.2,10\n",
      "\n",
      "3\n",
      "\n",
      "1,2,4.5\n",
      "\n"
     ]
    }
   ],
   "source": [
    "lines = []\n",
    "with open('input.txt', 'r') as f:\n",
    "    lines = f.readlines()\n",
    "    \n",
    "for line in lines:\n",
    "    print(line)"
   ]
  },
  {
   "cell_type": "code",
   "execution_count": 275,
   "metadata": {},
   "outputs": [
    {
     "data": {
      "text/plain": [
       "['4\\n', '3.5,6,9.2,10\\n', '3\\n', '1,2,4.5\\n']"
      ]
     },
     "execution_count": 275,
     "metadata": {},
     "output_type": "execute_result"
    }
   ],
   "source": [
    "lines"
   ]
  },
  {
   "cell_type": "code",
   "execution_count": 281,
   "metadata": {},
   "outputs": [
    {
     "data": {
      "text/plain": [
       "4"
      ]
     },
     "execution_count": 281,
     "metadata": {},
     "output_type": "execute_result"
    }
   ],
   "source": [
    "A_size = lines[0]\n",
    "A_size = int(A_size.replace('\\n', ''))\n",
    "A_size"
   ]
  },
  {
   "cell_type": "code",
   "execution_count": 297,
   "metadata": {},
   "outputs": [
    {
     "data": {
      "text/plain": [
       "[3.5, 6.0, 9.2, 10.0]"
      ]
     },
     "execution_count": 297,
     "metadata": {},
     "output_type": "execute_result"
    }
   ],
   "source": [
    "A = lines[1].replace('\\n', '').split(',')\n",
    "A = [float(i) for i in A]\n",
    "A\n"
   ]
  },
  {
   "cell_type": "code",
   "execution_count": 300,
   "metadata": {},
   "outputs": [],
   "source": [
    "assert A_size == len(A)"
   ]
  },
  {
   "cell_type": "code",
   "execution_count": 320,
   "metadata": {},
   "outputs": [],
   "source": [
    "a = np.array([1, 1, 1])\n",
    "b = np.array([0, 1, 0])"
   ]
  },
  {
   "cell_type": "code",
   "execution_count": 316,
   "metadata": {},
   "outputs": [
    {
     "data": {
      "text/plain": [
       "array([0, 1, 1])"
      ]
     },
     "execution_count": 316,
     "metadata": {},
     "output_type": "execute_result"
    }
   ],
   "source": [
    "a | b"
   ]
  },
  {
   "cell_type": "code",
   "execution_count": 309,
   "metadata": {},
   "outputs": [
    {
     "data": {
      "text/plain": [
       "1"
      ]
     },
     "execution_count": 309,
     "metadata": {},
     "output_type": "execute_result"
    }
   ],
   "source": [
    "a.sum()"
   ]
  },
  {
   "cell_type": "code",
   "execution_count": 312,
   "metadata": {},
   "outputs": [],
   "source": [
    "m, n = t_results.shape"
   ]
  },
  {
   "cell_type": "code",
   "execution_count": 335,
   "metadata": {},
   "outputs": [],
   "source": [
    "a = np.array([0, 0, 0])\n"
   ]
  },
  {
   "cell_type": "code",
   "execution_count": 336,
   "metadata": {},
   "outputs": [
    {
     "data": {
      "text/plain": [
       "array([0, 0, 0])"
      ]
     },
     "execution_count": 336,
     "metadata": {},
     "output_type": "execute_result"
    }
   ],
   "source": [
    "a"
   ]
  },
  {
   "cell_type": "code",
   "execution_count": 337,
   "metadata": {},
   "outputs": [
    {
     "data": {
      "text/plain": [
       "False"
      ]
     },
     "execution_count": 337,
     "metadata": {},
     "output_type": "execute_result"
    }
   ],
   "source": [
    "a.any()"
   ]
  },
  {
   "cell_type": "code",
   "execution_count": 339,
   "metadata": {},
   "outputs": [],
   "source": [
    "t_results = greedySearch(A, B)"
   ]
  },
  {
   "cell_type": "code",
   "execution_count": 340,
   "metadata": {},
   "outputs": [
    {
     "data": {
      "text/plain": [
       "array([[1, 1, 0],\n",
       "       [0, 0, 1],\n",
       "       [0, 0, 0],\n",
       "       [0, 0, 0]])"
      ]
     },
     "execution_count": 340,
     "metadata": {},
     "output_type": "execute_result"
    }
   ],
   "source": [
    "t_results"
   ]
  },
  {
   "cell_type": "code",
   "execution_count": 343,
   "metadata": {},
   "outputs": [
    {
     "data": {
      "text/plain": [
       "False"
      ]
     },
     "execution_count": 343,
     "metadata": {},
     "output_type": "execute_result"
    }
   ],
   "source": [
    "t_results[2].any()"
   ]
  },
  {
   "cell_type": "code",
   "execution_count": 366,
   "metadata": {},
   "outputs": [
    {
     "data": {
      "text/plain": [
       "array([0, 0, 0])"
      ]
     },
     "execution_count": 366,
     "metadata": {},
     "output_type": "execute_result"
    }
   ],
   "source": [
    "# a = np.zeros(3)\n",
    "a = np.array([0 for i in range(3)])\n",
    "a"
   ]
  },
  {
   "cell_type": "code",
   "execution_count": 401,
   "metadata": {},
   "outputs": [
    {
     "data": {
      "text/plain": [
       "False"
      ]
     },
     "execution_count": 401,
     "metadata": {},
     "output_type": "execute_result"
    }
   ],
   "source": [
    "b = np.array([1, 1, 1])\n",
    "~b.any()"
   ]
  },
  {
   "cell_type": "code",
   "execution_count": 381,
   "metadata": {},
   "outputs": [
    {
     "data": {
      "text/plain": [
       "array([1, 1, 1])"
      ]
     },
     "execution_count": 381,
     "metadata": {},
     "output_type": "execute_result"
    }
   ],
   "source": [
    "b.any() != 1"
   ]
  },
  {
   "cell_type": "code",
   "execution_count": 402,
   "metadata": {},
   "outputs": [],
   "source": [
    "import random"
   ]
  },
  {
   "cell_type": "code",
   "execution_count": 404,
   "metadata": {},
   "outputs": [
    {
     "data": {
      "text/plain": [
       "[0, 1, 2, 3, 4]"
      ]
     },
     "execution_count": 404,
     "metadata": {},
     "output_type": "execute_result"
    }
   ],
   "source": [
    "aa = [i for i in range(5)]\n",
    "aa"
   ]
  },
  {
   "cell_type": "code",
   "execution_count": 407,
   "metadata": {},
   "outputs": [],
   "source": [
    "random.shuffle(aa)"
   ]
  },
  {
   "cell_type": "code",
   "execution_count": 414,
   "metadata": {},
   "outputs": [
    {
     "data": {
      "text/plain": [
       "[3.5, 6.0, 9.2, 10.0]"
      ]
     },
     "execution_count": 414,
     "metadata": {},
     "output_type": "execute_result"
    }
   ],
   "source": [
    "A"
   ]
  },
  {
   "cell_type": "code",
   "execution_count": null,
   "outputs": [],
   "source": [
    "B"
   ],
   "metadata": {
    "collapsed": false,
    "pycharm": {
     "name": "#%%\n"
    }
   }
  },
  {
   "cell_type": "code",
   "execution_count": null,
   "outputs": [],
   "source": [],
   "metadata": {
    "collapsed": false,
    "pycharm": {
     "name": "#%%\n"
    }
   }
  },
  {
   "cell_type": "code",
   "execution_count": null,
   "outputs": [],
   "source": [
    "def test_1_wei_bag_problem():\n",
    "    weight = B\n",
    "    value = B\n",
    "    bag_weight = 6\n",
    "    # 初始化: 全为0\n",
    "    dp = [0] * (bag_weight + 1)\n",
    "\n",
    "    # 先遍历物品, 再遍历背包容量\n",
    "    for i in range(len(weight)):\n",
    "        for j in range(bag_weight, int(math.ceil(weight[i] - 1)), -1):\n",
    "            # 递归公式\n",
    "            dp[j] = max(dp[j], dp[int(math.floor(j - weight[i]))] + value[i])\n",
    "\n",
    "    print(dp)\n",
    "\n",
    "test_1_wei_bag_problem()"
   ],
   "metadata": {
    "collapsed": false,
    "pycharm": {
     "name": "#%%\n"
    }
   }
  },
  {
   "cell_type": "code",
   "execution_count": null,
   "outputs": [],
   "source": [
    "B"
   ],
   "metadata": {
    "collapsed": false,
    "pycharm": {
     "name": "#%%\n"
    }
   }
  },
  {
   "cell_type": "code",
   "execution_count": null,
   "outputs": [],
   "source": [
    "def test_2_wei_bag_problem():\n",
    "    weight = B\n",
    "    value = B\n",
    "    bag_size = 6\n",
    "    temp = np.array([0 for i in range(len(B))])\n",
    "    \n",
    "    rows, cols = len(weight), bag_size + 1\n",
    "    dp = [[0 for _ in range(cols)] for _ in range(rows)]\n",
    "    # 初始化dp数组. \n",
    "    for i in range(rows): \n",
    "        dp[i][0] = 0\n",
    "    first_item_weight, first_item_value = weight[0], value[0]\n",
    "    for j in range(1, cols): \n",
    "        if first_item_weight <= j: \n",
    "            dp[0][j] = first_item_value\n",
    "            \n",
    "\n",
    "            \n",
    "    for j in range(1, cols): \n",
    "        temp[:] = 0\n",
    "        for i in range(1, len(weight)):\n",
    "            print('i: ', i, ' j: ', j)\n",
    "            cur_weight, cur_val = weight[i], value[i]\n",
    "            if cur_weight > j: # 说明背包装不下当前物品. \n",
    "                dp[i][j] = dp[i - 1][j] # 所以不装当前物品.\n",
    "                temp[i-1] = 1\n",
    "                print('run 1')\n",
    "#                 temp[i] = 0\n",
    "            else: \n",
    "                # 定义dp数组: dp[i][j] 前i个物品里，放进容量为j的背包，价值总和最大是多少。\n",
    "                dp[i][j] = max(dp[i - 1][j], dp[i - 1][math.floor(j - cur_weight)]+ cur_val)\n",
    "                if dp[i - 1][math.floor(j - cur_weight)]+ cur_val > dp[i - 1][j]:\n",
    "                    temp[i] = 1\n",
    "                    print('run 2')\n",
    "                else:\n",
    "                    temp[i - 1] = 1\n",
    "                    print('run 3')\n",
    "#                     temp[i] = 0\n",
    "                \n",
    "    print(dp)\n",
    "    print(temp)\n",
    "\n",
    "test_2_wei_bag_problem()"
   ],
   "metadata": {
    "collapsed": false,
    "pycharm": {
     "name": "#%%\n"
    }
   }
  },
  {
   "cell_type": "code",
   "execution_count": null,
   "outputs": [],
   "source": [
    "a = np.array([1 for i in range(1, 4)])\n",
    "a"
   ],
   "metadata": {
    "collapsed": false,
    "pycharm": {
     "name": "#%%\n"
    }
   }
  },
  {
   "cell_type": "code",
   "execution_count": null,
   "outputs": [],
   "source": [
    "a[1] = 0"
   ],
   "metadata": {
    "collapsed": false,
    "pycharm": {
     "name": "#%%\n"
    }
   }
  },
  {
   "cell_type": "code",
   "execution_count": null,
   "outputs": [],
   "source": [
    "a"
   ],
   "metadata": {
    "collapsed": false,
    "pycharm": {
     "name": "#%%\n"
    }
   }
  },
  {
   "cell_type": "code",
   "execution_count": null,
   "outputs": [],
   "source": [
    "temp.clear()\n",
    "temp"
   ],
   "metadata": {
    "collapsed": false,
    "pycharm": {
     "name": "#%%\n"
    }
   }
  },
  {
   "cell_type": "code",
   "execution_count": 413,
   "metadata": {},
   "outputs": [
    {
     "data": {
      "text/plain": [
       "[1, 2, 4.5]"
      ]
     },
     "execution_count": 413,
     "metadata": {},
     "output_type": "execute_result"
    }
   ],
   "source": []
  },
  {
   "cell_type": "code",
   "execution_count": null,
   "metadata": {},
   "outputs": [],
   "source": []
  },
  {
   "cell_type": "code",
   "execution_count": 433,
   "metadata": {},
   "outputs": [
    {
     "name": "stdout",
     "output_type": "stream",
     "text": [
      "[0, 1, 2, 3, 3, 4.5, 5.5]\n"
     ]
    }
   ],
   "source": [
    "def test_1_wei_bag_problem():\n",
    "    weight = B\n",
    "    value = B\n",
    "    bag_weight = 6\n",
    "    # 初始化: 全为0\n",
    "    dp = [0] * (bag_weight + 1)\n",
    "\n",
    "    # 先遍历物品, 再遍历背包容量\n",
    "    for i in range(len(weight)):\n",
    "        for j in range(bag_weight, int(math.ceil(weight[i] - 1)), -1):\n",
    "            # 递归公式\n",
    "            dp[j] = max(dp[j], dp[int(math.floor(j - weight[i]))] + value[i])\n",
    "\n",
    "    print(dp)\n",
    "\n",
    "test_1_wei_bag_problem()"
   ]
  },
  {
   "cell_type": "code",
   "execution_count": 444,
   "metadata": {},
   "outputs": [
    {
     "data": {
      "text/plain": [
       "[1, 2, 4.5]"
      ]
     },
     "execution_count": 444,
     "metadata": {},
     "output_type": "execute_result"
    }
   ],
   "source": [
    "B"
   ]
  },
  {
   "cell_type": "code",
   "execution_count": 473,
   "metadata": {},
   "outputs": [
    {
     "name": "stdout",
     "output_type": "stream",
     "text": [
      "i:  1  j:  1\n",
      "run 1\n",
      "i:  2  j:  1\n",
      "run 1\n",
      "i:  1  j:  2\n",
      "run 2\n",
      "i:  2  j:  2\n",
      "run 1\n",
      "i:  1  j:  3\n",
      "run 2\n",
      "i:  2  j:  3\n",
      "run 1\n",
      "i:  1  j:  4\n",
      "run 2\n",
      "i:  2  j:  4\n",
      "run 1\n",
      "i:  1  j:  5\n",
      "run 2\n",
      "i:  2  j:  5\n",
      "run 2\n",
      "i:  1  j:  6\n",
      "run 2\n",
      "i:  2  j:  6\n",
      "run 2\n",
      "[[0, 1, 1, 1, 1, 1, 1], [0, 1, 2, 3, 3, 3, 3], [0, 1, 2, 3, 3, 4.5, 5.5]]\n",
      "[0 1 1]\n"
     ]
    }
   ],
   "source": [
    "def test_2_wei_bag_problem():\n",
    "    weight = B\n",
    "    value = B\n",
    "    bag_size = 6\n",
    "    temp = np.array([0 for i in range(len(B))])\n",
    "    \n",
    "    rows, cols = len(weight), bag_size + 1\n",
    "    dp = [[0 for _ in range(cols)] for _ in range(rows)]\n",
    "    # 初始化dp数组. \n",
    "    for i in range(rows): \n",
    "        dp[i][0] = 0\n",
    "    first_item_weight, first_item_value = weight[0], value[0]\n",
    "    for j in range(1, cols): \n",
    "        if first_item_weight <= j: \n",
    "            dp[0][j] = first_item_value\n",
    "            \n",
    "\n",
    "            \n",
    "    for j in range(1, cols): \n",
    "        temp[:] = 0\n",
    "        for i in range(1, len(weight)):\n",
    "            print('i: ', i, ' j: ', j)\n",
    "            cur_weight, cur_val = weight[i], value[i]\n",
    "            if cur_weight > j: # 说明背包装不下当前物品. \n",
    "                dp[i][j] = dp[i - 1][j] # 所以不装当前物品.\n",
    "                temp[i-1] = 1\n",
    "                print('run 1')\n",
    "#                 temp[i] = 0\n",
    "            else: \n",
    "                # 定义dp数组: dp[i][j] 前i个物品里，放进容量为j的背包，价值总和最大是多少。\n",
    "                dp[i][j] = max(dp[i - 1][j], dp[i - 1][math.floor(j - cur_weight)]+ cur_val)\n",
    "                if dp[i - 1][math.floor(j - cur_weight)]+ cur_val > dp[i - 1][j]:\n",
    "                    temp[i] = 1\n",
    "                    print('run 2')\n",
    "                else:\n",
    "                    temp[i - 1] = 1\n",
    "                    print('run 3')\n",
    "#                     temp[i] = 0\n",
    "                \n",
    "    print(dp)\n",
    "    print(temp)\n",
    "\n",
    "test_2_wei_bag_problem()"
   ]
  },
  {
   "cell_type": "code",
   "execution_count": 459,
   "metadata": {},
   "outputs": [
    {
     "data": {
      "text/plain": [
       "array([1, 1, 1])"
      ]
     },
     "execution_count": 459,
     "metadata": {},
     "output_type": "execute_result"
    }
   ],
   "source": [
    "a = np.array([1 for i in range(1, 4)])\n",
    "a"
   ]
  },
  {
   "cell_type": "code",
   "execution_count": 451,
   "metadata": {},
   "outputs": [],
   "source": [
    "a[1] = 0"
   ]
  },
  {
   "cell_type": "code",
   "execution_count": 452,
   "metadata": {},
   "outputs": [
    {
     "data": {
      "text/plain": [
       "array([1, 0, 1])"
      ]
     },
     "execution_count": 452,
     "metadata": {},
     "output_type": "execute_result"
    }
   ],
   "source": [
    "a"
   ]
  },
  {
   "cell_type": "code",
   "execution_count": 467,
   "metadata": {},
   "outputs": [
    {
     "data": {
      "text/plain": [
       "[]"
      ]
     },
     "execution_count": 467,
     "metadata": {},
     "output_type": "execute_result"
    }
   ],
   "source": [
    "temp.clear()\n",
    "temp"
   ]
  },
  {
   "cell_type": "code",
   "execution_count": null,
   "metadata": {},
   "outputs": [],
   "source": []
  }
 ],
 "metadata": {
  "kernelspec": {
   "display_name": "python torch1.7_py38",
   "language": "python",
   "name": "torch1.7_py38"
  },
  "language_info": {
   "codemirror_mode": {
    "name": "ipython",
    "version": 3
   },
   "file_extension": ".py",
   "mimetype": "text/x-python",
   "name": "python",
   "nbconvert_exporter": "python",
   "pygments_lexer": "ipython3",
   "version": "3.8.5"
  }
 },
 "nbformat": 4,
 "nbformat_minor": 2
}